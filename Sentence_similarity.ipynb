{
  "nbformat": 4,
  "nbformat_minor": 0,
  "metadata": {
    "colab": {
      "name": "Sentence similarity.ipynb",
      "provenance": []
    },
    "kernelspec": {
      "name": "python3",
      "display_name": "Python 3"
    },
    "language_info": {
      "name": "python"
    }
  },
  "cells": [
    {
      "cell_type": "code",
      "metadata": {
        "id": "QQ4oEKAotLss"
      },
      "source": [
        "\n",
        "!pip install -q sentence_transformers"
      ],
      "execution_count": null,
      "outputs": []
    },
    {
      "cell_type": "code",
      "metadata": {
        "id": "lgzeoPPTtzyD"
      },
      "source": [
        "from sentence_transformers import SentenceTransformer\n",
        "from sklearn.metrics.pairwise import cosine_similarity\n",
        "from pprint import pprint"
      ],
      "execution_count": 3,
      "outputs": []
    },
    {
      "cell_type": "code",
      "metadata": {
        "id": "4pFfcGpQvcqN"
      },
      "source": [
        "model = SentenceTransformer('paraphrase-MiniLM-L6-v2')"
      ],
      "execution_count": null,
      "outputs": []
    },
    {
      "cell_type": "code",
      "metadata": {
        "id": "K9GiOpQRvdsK"
      },
      "source": [
        "sentences = \\\n",
        "    ['Nothing much to say as it is a macbook. the M1 processor works like a charm'\n",
        "     , 'Amazing laptop, super performance with M1, its blazing fast',\n",
        "     'Working very slow and takes 15-20 minutes to start thus not worth for money'\n",
        "     ,\n",
        "     'This is not a good laptop. It is very slow. It is taking 20 minutes to start'\n",
        "     ]"
      ],
      "execution_count": 5,
      "outputs": []
    },
    {
      "cell_type": "code",
      "metadata": {
        "id": "2n9o1MAqvhP4"
      },
      "source": [
        "sentence_embeddings = model.encode(sentences)"
      ],
      "execution_count": 6,
      "outputs": []
    },
    {
      "cell_type": "code",
      "metadata": {
        "id": "_lfFoK3Bvj-j"
      },
      "source": [
        "for sentence, embedding in zip(sentences, sentence_embeddings):\n",
        "    print(\"Sentence:\", sentence)\n",
        "    print(\"Embedding:\", embedding)\n",
        "    print(\"\")"
      ],
      "execution_count": null,
      "outputs": []
    },
    {
      "cell_type": "code",
      "metadata": {
        "colab": {
          "base_uri": "https://localhost:8080/"
        },
        "id": "sonuqDdRvoML",
        "outputId": "c5d866c6-26de-471e-df9f-dd5589d22d58"
      },
      "source": [
        "len(sentence_embeddings)"
      ],
      "execution_count": 8,
      "outputs": [
        {
          "output_type": "execute_result",
          "data": {
            "text/plain": [
              "4"
            ]
          },
          "metadata": {
            "tags": []
          },
          "execution_count": 8
        }
      ]
    },
    {
      "cell_type": "code",
      "metadata": {
        "colab": {
          "base_uri": "https://localhost:8080/"
        },
        "id": "etLyxPbgvsdn",
        "outputId": "2aca2394-40af-4f67-b5ff-c17a02208175"
      },
      "source": [
        "\n",
        "len(sentence_embeddings[0])"
      ],
      "execution_count": 9,
      "outputs": [
        {
          "output_type": "execute_result",
          "data": {
            "text/plain": [
              "384"
            ]
          },
          "metadata": {
            "tags": []
          },
          "execution_count": 9
        }
      ]
    },
    {
      "cell_type": "code",
      "metadata": {
        "colab": {
          "base_uri": "https://localhost:8080/"
        },
        "id": "xkRcDtNkvubi",
        "outputId": "b1915bef-f73f-4e19-a99d-3d714b4db162"
      },
      "source": [
        "pprint('Similarity between {} and {} is {}'.format(sentences[0],\n",
        "       sentences[1],\n",
        "       cosine_similarity(sentence_embeddings[0].reshape(1, -1),\n",
        "       sentence_embeddings[1].reshape(1, -1))[0][0]))"
      ],
      "execution_count": 10,
      "outputs": [
        {
          "output_type": "stream",
          "text": [
            "('Similarity between Nothing much to say as it is a macbook. the M1 processor '\n",
            " 'works like a charm and Amazing laptop, super performance with M1, its '\n",
            " 'blazing fast is 0.6136190891265869')\n"
          ],
          "name": "stdout"
        }
      ]
    },
    {
      "cell_type": "code",
      "metadata": {
        "colab": {
          "base_uri": "https://localhost:8080/"
        },
        "id": "qjf4_k4KvwSE",
        "outputId": "f1ea0df3-ccff-404a-8a85-14a67f4c71b8"
      },
      "source": [
        "pprint('Similarity between {} and {} is {}'.format(sentences[0],\n",
        "       sentences[2],\n",
        "       cosine_similarity(sentence_embeddings[0].reshape(1, -1),\n",
        "       sentence_embeddings[2].reshape(1, -1))[0][0]))"
      ],
      "execution_count": 11,
      "outputs": [
        {
          "output_type": "stream",
          "text": [
            "('Similarity between Nothing much to say as it is a macbook. the M1 processor '\n",
            " 'works like a charm and Working very slow and takes 15-20 minutes to start '\n",
            " 'thus not worth for money is 0.20321235060691833')\n"
          ],
          "name": "stdout"
        }
      ]
    },
    {
      "cell_type": "code",
      "metadata": {
        "colab": {
          "base_uri": "https://localhost:8080/"
        },
        "id": "fvzBomSuvx-i",
        "outputId": "be42285a-698a-46c0-f065-8972f88661c9"
      },
      "source": [
        "pprint('Similarity between {} and {} is {}'.format(sentences[2],\n",
        "       sentences[3],\n",
        "       cosine_similarity(sentence_embeddings[2].reshape(1, -1),\n",
        "       sentence_embeddings[3].reshape(1, -1))[0][0]))"
      ],
      "execution_count": 12,
      "outputs": [
        {
          "output_type": "stream",
          "text": [
            "('Similarity between Working very slow and takes 15-20 minutes to start thus '\n",
            " 'not worth for money and This is not a good laptop. It is very slow. It is '\n",
            " 'taking 20 minutes to start is 0.5791777968406677')\n"
          ],
          "name": "stdout"
        }
      ]
    },
    {
      "cell_type": "code",
      "metadata": {
        "id": "ovtH8q_4vz-H"
      },
      "source": [
        ""
      ],
      "execution_count": null,
      "outputs": []
    }
  ]
}